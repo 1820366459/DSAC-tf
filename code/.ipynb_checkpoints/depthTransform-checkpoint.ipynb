{
 "cells": [
  {
   "cell_type": "code",
   "execution_count": 1,
   "metadata": {
    "collapsed": true
   },
   "outputs": [],
   "source": [
    "dataset_path=r'/scratch/chil/DSAC-master/7scenes/7scenes_chess/training/scene'"
   ]
  },
  {
   "cell_type": "code",
   "execution_count": 164,
   "metadata": {
    "collapsed": true
   },
   "outputs": [],
   "source": [
    "import os\n",
    "from os import path\n",
    "import numpy as np\n",
    "import pdb"
   ]
  },
  {
   "cell_type": "code",
   "execution_count": 273,
   "metadata": {
    "collapsed": true
   },
   "outputs": [],
   "source": [
    "img_no='000001479'\n",
    "depth_path=path.join(dataset_path, 'depth_noseg', img_no+'.png')\n",
    "pose_path=path.join(dataset_path,'poses',img_no+'.txt')"
   ]
  },
  {
   "cell_type": "code",
   "execution_count": 20,
   "metadata": {
    "collapsed": true
   },
   "outputs": [],
   "source": [
    "img_width=640\n",
    "img_height=480\n",
    "focalLength = 525.0\n",
    "xShift = 0.0\n",
    "yShift = 0.0\n",
    "secondaryFocalLength = 585.0\n",
    "rawXShift = 0.0\n",
    "rawYShift = 0.0\n",
    "trans = np.array([[0.9998282978278875, 0.008186003849805841, 0.01662420535123559, -0.01393324413905143],\n",
    "                      [-0.008090415588790156, 0.9999503986429169, -0.005809081637597863, 0.05228905046770047],\n",
    "                      [-0.01667093393273896, 0.005673587475537798, 0.9998449331606215, 0.02712006871814571],\n",
    "                      [0, 0, 0, 1]])"
   ]
  },
  {
   "cell_type": "code",
   "execution_count": 191,
   "metadata": {
    "collapsed": true
   },
   "outputs": [],
   "source": [
    "def pxToEye(x, y, depth, w, h, cx, cy, f):\n",
    "    # x.shape=(N)\n",
    "    eye=np.ones((len(x),4,1))\n",
    "    zero_index=np.where(depth==0)\n",
    "    eye[zero_index][:,0:3,0]=0\n",
    "    \n",
    "    index=np.where(depth!=0)\n",
    "    X=((x[index] - (w / 2.0 + cx)) / (f / depth[index]))\n",
    "    Y=-((y[index] - (h / 2.0 + cy)) / (f / depth[index]))\n",
    "    Z=-depth[index]\n",
    "    ones=np.ones_like(X)\n",
    "    \n",
    "    coor=np.concatenate((X[np.newaxis],Y[np.newaxis],Z[np.newaxis],ones[np.newaxis])).transpose()\n",
    "    coor=np.expand_dims(coor,-1)\n",
    "    eye[index]=coor\n",
    "    return eye"
   ]
  },
  {
   "cell_type": "code",
   "execution_count": 214,
   "metadata": {
    "collapsed": true
   },
   "outputs": [],
   "source": [
    "def eyeToPx(eye, depth, w, h, cx, cy, f):\n",
    "    #eye.shape=(N,4,1), depth.shape=(N)\n",
    "    x=np.zeros(len(depth))\n",
    "    y=np.zeros(len(depth))\n",
    "    index=np.where(depth!=0)\n",
    "    # ToDo: replace depth with eye[:,2,0]\n",
    "    x[index]=(eye[index][:,0,0] * (f / depth[index])) + (w / 2.0 + cx) + 0.5\n",
    "    y[index]=-(eye[index][:,1,0] * (f / depth[index])) + (h / 2.0 + cy) + 0.5\n",
    "    return x.astype(np.int),y.astype(np.int)"
   ]
  },
  {
   "cell_type": "code",
   "execution_count": 248,
   "metadata": {
    "collapsed": true
   },
   "outputs": [],
   "source": [
    "def mapDepthToRGB(x, y, depth, w, h, dcx, dcy, df, rgbcx, rgbcy, rgbf):\n",
    "    # project to 3D point in camera coordinates (with intrinsic parameters of the depth sensor)\n",
    "    eye=pxToEye(x, y, depth, w, h, dcx, dcy, df)\n",
    "    # apply relative transformation between sensors\n",
    "    n_trans=np.repeat(trans[np.newaxis],len(eye),axis=0)\n",
    "    eye=np.matmul(n_trans,eye)\n",
    "    # project to 2D point in image coordiantes (with intrinsic parameters of the rgb sensor)\n",
    "    return eyeToPx(eye, depth, w, h, rgbcx, rgbcy, rgbf),eye"
   ]
  },
  {
   "cell_type": "code",
   "execution_count": 302,
   "metadata": {
    "collapsed": true
   },
   "outputs": [],
   "source": [
    "def getDepth(depth_img,mode='image'):\n",
    "    h,w=depth_img.shape\n",
    "    depth=depth_img.flatten()\n",
    "    depth=depth.astype(np.float)\n",
    "    x,y=np.meshgrid(np.arange(w),np.arange(h))\n",
    "    x=x.flatten()\n",
    "    y=y.flatten()\n",
    "    (newx,newy),eye=mapDepthToRGB(x,y,depth,w,h,rawXShift,rawYShift,secondaryFocalLength,xShift,yShift,focalLength)\n",
    "    dsac_eye=eye[:,0:2,0]\n",
    "    dsac_eye=np.concatenate([dsac_eye,np.expand_dims(-depth,-1)],axis=1)\n",
    "    if mode=='image':\n",
    "        objMap=np.zeros((h,w,3))\n",
    "        objMap[newy,newx]=dsac_eye\n",
    "        depthMap=np.zeros((h,w))\n",
    "        depthMap[newy,newx]=depth\n",
    "        return depthMap,objMap\n",
    "    else:\n",
    "        return newx,newy,dsac_eye"
   ]
  },
  {
   "cell_type": "code",
   "execution_count": 294,
   "metadata": {
    "collapsed": true
   },
   "outputs": [],
   "source": [
    "import re\n",
    "def getInfo(pose_txt):\n",
    "    a = []\n",
    "    with open(pose_txt) as f:\n",
    "        pattern = re.compile('\\s+')\n",
    "        for line in f.readlines():\n",
    "            ss=re.split(pattern, line.strip())\n",
    "            for s in ss:\n",
    "                a.append(float(s))\n",
    "\n",
    "    a = np.array(a).reshape(4,4)\n",
    "    ts = [0.6880049706, 0.333539999278, 2.23485151692]\n",
    "    for i in xrange(3):\n",
    "        a[i][3] -= ts[i]\n",
    "        \n",
    "    correction = np.array([[1,0,0,0],\n",
    "                            [0,-1,0,0],\n",
    "                            [0,0,-1,0],\n",
    "                            [0,0,0,1]])\n",
    "    a = np.matmul(a,correction)\n",
    "    for i in xrange(3):\n",
    "        a[i][3] *= 1000\n",
    "    return np.linalg.inv(a)"
   ]
  },
  {
   "cell_type": "code",
   "execution_count": 304,
   "metadata": {
    "collapsed": true
   },
   "outputs": [],
   "source": [
    "def getObj(depth_img,pose_txt):\n",
    "    newx,newy,eye = getDepth(depth_img,mode='init')\n",
    "    ones = np.ones((len(eye),1))\n",
    "    eye = np.concatenate([eye,ones],axis=1)\n",
    "    pose = getInfo(pose_txt)\n",
    "    pose_inv = np.linalg.inv(pose)\n",
    "    T = np.repeat(pose_inv[np.newaxis],len(newx),axis=0)\n",
    "    obj = np.matmul(T,np.expand_dims(eye,-1))\n",
    "    objMap = np.zeros((img_height,img_width,3))\n",
    "    obj=obj[:,:3,0]\n",
    "    objMap[newy,newx]=obj\n",
    "    return objMap"
   ]
  },
  {
   "cell_type": "markdown",
   "metadata": {},
   "source": [
    "## convert"
   ]
  },
  {
   "cell_type": "code",
   "execution_count": 316,
   "metadata": {
    "collapsed": true
   },
   "outputs": [],
   "source": [
    "import cv2\n",
    "src_dir=r'/scratch/chil/7scenes/chess'\n",
    "tgt_dir=r'/scratch/chil/7scenes_align/chess'\n",
    "depth_dirs=['seq-01','seq-02','seq-03','seq-04','seq-05','seq-06']\n",
    "\n",
    "for depth_dir in depth_dirs:\n",
    "    if not path.exists(path.join(tgt_dir,depth_dir)):\n",
    "        os.makedirs(path.join(tgt_dir,depth_dir))\n",
    "    imgs = os.listdir(path.join(src_dir,depth_dir))\n",
    "    for i in xrange(1000):\n",
    "        depth = 'frame-{:0>6d}.depth.png'.format(i)\n",
    "        pose = 'frame-{:0>6d}.pose.txt'.format(i)\n",
    "        depth_img=cv2.imread(path.join(src_dir,depth_dir,depth),-1)\n",
    "        pose_txt=path.join(src_dir,depth_dir,pose)\n",
    "        objMap=getObj(depth_img,pose_txt)\n",
    "        tgt_path=path.join(tgt_dir,depth_dir,'{:0>6}.npy'.format(i))\n",
    "        np.save(tgt_path,objMap)"
   ]
  },
  {
   "cell_type": "markdown",
   "metadata": {},
   "source": [
    "## fun_test"
   ]
  },
  {
   "cell_type": "code",
   "execution_count": 309,
   "metadata": {
    "collapsed": true,
    "scrolled": true
   },
   "outputs": [],
   "source": [
    "import cv2\n",
    "depth_img=cv2.imread(depth_path,-1)\n",
    "depthMap=getDepth(depth_img)"
   ]
  },
  {
   "cell_type": "code",
   "execution_count": 305,
   "metadata": {
    "collapsed": true
   },
   "outputs": [],
   "source": [
    "import cv2\n",
    "depth_img=cv2.imread(depth_path,-1)\n",
    "obj=getObj(depth_img,pose_path)"
   ]
  },
  {
   "cell_type": "code",
   "execution_count": 308,
   "metadata": {},
   "outputs": [
    {
     "name": "stdout",
     "output_type": "stream",
     "text": [
      "(480, 640, 3)\n",
      "[-1193.80173886  -486.05760055    93.76739674]\n"
     ]
    }
   ],
   "source": [
    "print obj.shape\n",
    "print obj[107][66]"
   ]
  },
  {
   "cell_type": "code",
   "execution_count": 233,
   "metadata": {},
   "outputs": [
    {
     "name": "stdout",
     "output_type": "stream",
     "text": [
      "1952.0\n"
     ]
    }
   ],
   "source": [
    "print depthMap[82][25]"
   ]
  },
  {
   "cell_type": "code",
   "execution_count": 311,
   "metadata": {
    "collapsed": true
   },
   "outputs": [],
   "source": [
    "np.save('test.npy',obj)"
   ]
  },
  {
   "cell_type": "code",
   "execution_count": 312,
   "metadata": {
    "collapsed": true
   },
   "outputs": [],
   "source": [
    "objMap=np.load('test.npy')"
   ]
  },
  {
   "cell_type": "code",
   "execution_count": 314,
   "metadata": {},
   "outputs": [
    {
     "data": {
      "text/plain": [
       "array([-1232.05912683,  -792.06021326, -2243.10900513])"
      ]
     },
     "execution_count": 314,
     "metadata": {},
     "output_type": "execute_result"
    }
   ],
   "source": [
    "objMap[0][0]"
   ]
  },
  {
   "cell_type": "code",
   "execution_count": 234,
   "metadata": {},
   "outputs": [
    {
     "data": {
      "text/plain": [
       "True"
      ]
     },
     "execution_count": 234,
     "metadata": {},
     "output_type": "execute_result"
    }
   ],
   "source": [
    "depthMap=depthMap.astype(np.uint16)\n",
    "cv2.imwrite('test.png',depthMap)"
   ]
  },
  {
   "cell_type": "code",
   "execution_count": 238,
   "metadata": {},
   "outputs": [
    {
     "name": "stdout",
     "output_type": "stream",
     "text": [
      "uint16\n",
      "1952\n"
     ]
    }
   ],
   "source": [
    "img=cv2.imread('test.png',-1)\n",
    "print img.dtype\n",
    "print img[82][25]"
   ]
  },
  {
   "cell_type": "markdown",
   "metadata": {},
   "source": [
    "## Test"
   ]
  },
  {
   "cell_type": "code",
   "execution_count": 202,
   "metadata": {
    "scrolled": true
   },
   "outputs": [
    {
     "name": "stdout",
     "output_type": "stream",
     "text": [
      "[[ -9.89538462e+02]\n",
      " [  7.42153846e+02]\n",
      " [ -1.80900000e+03]\n",
      " [  1.00000000e+00]]\n",
      "[[ -9.89538462e+02]\n",
      " [  7.42153846e+02]\n",
      " [ -1.80900000e+03]\n",
      " [  1.00000000e+00]]\n"
     ]
    }
   ],
   "source": [
    "import cv2\n",
    "depth=cv2.imread(depth_path,-1)\n",
    "#print depth.shape\n",
    "#print depth\n",
    "i=200\n",
    "j=100\n",
    "test1=depth[i][j]\n",
    "depth=depth.flatten().astype(np.float)\n",
    "x,y=np.meshgrid(np.arange(img_width),np.arange(img_height))\n",
    "x=x.flatten()\n",
    "y=y.flatten()\n",
    "no=i*640+j\n",
    "#print test1,depth[no]\n",
    "assert test1==depth[no]\n",
    "eye=pxToEye(x,y,depth,img_width,img_height,xShift,yShift,secondaryFocalLength)\n",
    "print eye[0]\n",
    "eye=eye.reshape(480,640,4,1)\n",
    "print eye[0][0]"
   ]
  },
  {
   "cell_type": "code",
   "execution_count": 171,
   "metadata": {},
   "outputs": [
    {
     "data": {
      "text/plain": [
       "(3, 1)"
      ]
     },
     "execution_count": 171,
     "metadata": {},
     "output_type": "execute_result"
    }
   ],
   "source": [
    "np.expand_dims(np.arange(3),-1).shape"
   ]
  },
  {
   "cell_type": "code",
   "execution_count": 154,
   "metadata": {},
   "outputs": [
    {
     "name": "stdout",
     "output_type": "stream",
     "text": [
      "[(1, 10), (1, 11), (1, 12), (1, 13), (1, 14), (1, 15), (1, 16), (1, 17), (1, 18), (1, 19), (1, 20), (1, 21), (1, 22), (1, 23), (1, 24), (1, 25), (1, 26), (1, 27), (1, 28), (1, 29), (1, 30), (1, 31), (1, 32), (1, 33), (1, 34), (1, 35), (1, 36), (1, 37), (1, 38), (1, 39), (1, 40), (1, 41), (1, 42), (1, 43), (1, 44), (1, 45), (1, 46), (1, 47), (1, 48), (1, 49)]\n",
      "307200\n",
      "[[  0   1   2 ..., 637 638 639]\n",
      " [  0   1   2 ..., 637 638 639]\n",
      " [  0   1   2 ..., 637 638 639]\n",
      " ..., \n",
      " [  0   1   2 ..., 637 638 639]\n",
      " [  0   1   2 ..., 637 638 639]\n",
      " [  0   1   2 ..., 637 638 639]]\n",
      "[[  0   0   0 ...,   0   0   0]\n",
      " [  1   1   1 ...,   1   1   1]\n",
      " [  2   2   2 ...,   2   2   2]\n",
      " ..., \n",
      " [477 477 477 ..., 477 477 477]\n",
      " [478 478 478 ..., 478 478 478]\n",
      " [479 479 479 ..., 479 479 479]]\n"
     ]
    }
   ],
   "source": [
    "x,y=np.meshgrid(np.arange(img_width),np.arange(img_height))\n",
    "x=x.flatten()\n",
    "y=y.flatten()\n",
    "coor=zip(y,x)\n",
    "print coor[650:690]\n",
    "print len(coor)\n",
    "print x.reshape(480,640)\n",
    "print y.reshape(480,640)"
   ]
  },
  {
   "cell_type": "code",
   "execution_count": 110,
   "metadata": {},
   "outputs": [
    {
     "name": "stdout",
     "output_type": "stream",
     "text": [
      "[[ 0.  0.  0.  0.]\n",
      " [ 0.  0.  0.  0.]\n",
      " [ 0.  0.  0.  0.]]\n",
      "[[ 5.  3.  8.  9.]\n",
      " [ 0.  1.  3.  4.]\n",
      " [ 2.  5.  1.  1.]]\n"
     ]
    }
   ],
   "source": [
    "a=np.zeros((3,4))\n",
    "print a\n",
    "x,y=np.meshgrid(np.arange(4),np.arange(3))\n",
    "x=x.flatten()\n",
    "y=y.flatten()\n",
    "a[y,x]=[5,3,8,9,0,1,3,4,2,5,1,1]\n",
    "print a"
   ]
  },
  {
   "cell_type": "code",
   "execution_count": 80,
   "metadata": {},
   "outputs": [
    {
     "name": "stdout",
     "output_type": "stream",
     "text": [
      "(10, 4, 4)\n",
      "[[ 0.9998283   0.008186    0.01662421 -0.01393324]\n",
      " [-0.00809042  0.9999504  -0.00580908  0.05228905]\n",
      " [-0.01667093  0.00567359  0.99984493  0.02712007]\n",
      " [ 0.          0.          0.          1.        ]]\n",
      "[[ 0.9998283   0.008186    0.01662421 -0.01393324]\n",
      " [-0.00809042  0.9999504  -0.00580908  0.05228905]\n",
      " [-0.01667093  0.00567359  0.99984493  0.02712007]\n",
      " [ 0.          0.          0.          1.        ]]\n"
     ]
    }
   ],
   "source": [
    "n_trans=np.repeat(trans[np.newaxis],10,axis=0)\n",
    "print n_trans.shape\n",
    "print n_trans[0]\n",
    "print n_trans[1]"
   ]
  },
  {
   "cell_type": "code",
   "execution_count": 61,
   "metadata": {},
   "outputs": [
    {
     "name": "stdout",
     "output_type": "stream",
     "text": [
      "(2, 3, 3)\n",
      "[[[  3   4   5]\n",
      "  [  9  14  19]\n",
      "  [ 15  24  33]]\n",
      "\n",
      " [[ 99 112 125]\n",
      "  [129 146 163]\n",
      "  [159 180 201]]]\n",
      "[[ 3  4  5]\n",
      " [ 9 14 19]\n",
      " [15 24 33]]\n",
      "[[ 99 112 125]\n",
      " [129 146 163]\n",
      " [159 180 201]]\n"
     ]
    }
   ],
   "source": [
    "a=np.arange(12).reshape(2,3,2)\n",
    "b=np.arange(12).reshape(2,2,3)\n",
    "c=np.matmul(a,b)\n",
    "print c.shape\n",
    "print c\n",
    "print np.dot(a[0],b[0])\n",
    "print np.dot(a[1],b[1])"
   ]
  },
  {
   "cell_type": "code",
   "execution_count": 11,
   "metadata": {},
   "outputs": [
    {
     "name": "stdout",
     "output_type": "stream",
     "text": [
      "[0 1 2 3 4 5 6 7 8 9]\n",
      "(array([1, 2, 3, 4, 5, 6, 7, 8, 9]),)\n",
      "9\n",
      "[ 0  0  2  4  6  8 10 12 14 16]\n"
     ]
    }
   ],
   "source": [
    "a=np.arange(10)\n",
    "print a\n",
    "index=np.where(a!=0)\n",
    "print index\n",
    "print len(index[0])\n",
    "a[index]=np.arange(9)*2\n",
    "print a"
   ]
  },
  {
   "cell_type": "code",
   "execution_count": 84,
   "metadata": {},
   "outputs": [
    {
     "name": "stdout",
     "output_type": "stream",
     "text": [
      "[0 1 2 3 4 5 6 7 8 9]\n",
      "[ 0  1 -9  3  4  5  6  7  8  9]\n"
     ]
    }
   ],
   "source": [
    "a=np.arange(10)\n",
    "print a\n",
    "index=[2,3,2]\n",
    "a[index]=(9,3,-9)\n",
    "print a"
   ]
  },
  {
   "cell_type": "code",
   "execution_count": 21,
   "metadata": {},
   "outputs": [
    {
     "data": {
      "text/plain": [
       "array([[ 0.9998283 ,  0.008186  ,  0.01662421, -0.01393324],\n",
       "       [-0.00809042,  0.9999504 , -0.00580908,  0.05228905],\n",
       "       [-0.01667093,  0.00567359,  0.99984493,  0.02712007],\n",
       "       [ 0.        ,  0.        ,  0.        ,  1.        ]])"
      ]
     },
     "execution_count": 21,
     "metadata": {},
     "output_type": "execute_result"
    }
   ],
   "source": [
    "trans"
   ]
  },
  {
   "cell_type": "code",
   "execution_count": 85,
   "metadata": {},
   "outputs": [
    {
     "name": "stdout",
     "output_type": "stream",
     "text": [
      "[ 0.5  1.5  2.5  3.5  4.5  5.5  6.5  7.5  8.5  9.5]\n",
      "[0 1 2 3 4 5 6 7 8 9]\n"
     ]
    }
   ],
   "source": [
    "a=np.arange(10)+0.5\n",
    "print a\n",
    "a=a.astype(np.int)\n",
    "print a"
   ]
  },
  {
   "cell_type": "code",
   "execution_count": 255,
   "metadata": {
    "collapsed": true
   },
   "outputs": [],
   "source": [
    "objs=np.load('obj.npy')"
   ]
  }
 ],
 "metadata": {
  "kernelspec": {
   "display_name": "Python 2",
   "language": "python",
   "name": "python2"
  },
  "language_info": {
   "codemirror_mode": {
    "name": "ipython",
    "version": 2
   },
   "file_extension": ".py",
   "mimetype": "text/x-python",
   "name": "python",
   "nbconvert_exporter": "python",
   "pygments_lexer": "ipython2",
   "version": "2.7.14"
  }
 },
 "nbformat": 4,
 "nbformat_minor": 2
}
